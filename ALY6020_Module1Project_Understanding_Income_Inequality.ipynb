{
 "cells": [
  {
   "cell_type": "code",
   "execution_count": 2,
   "id": "dea63b9f",
   "metadata": {},
   "outputs": [],
   "source": [
    "import numpy as np # linear algebra\n",
    "import pandas as pd # data processing, CSV file I/O (e.g. pd.read_csv)\n",
    "import matplotlib.pyplot as plt\n",
    "import seaborn as sns\n",
    "import warnings\n",
    "warnings.filterwarnings(\"ignore\")\n",
    "###Reading the dataset\n",
    "df = pd.read_csv(\"C:/Users/poona/OneDrive/Desktop/Census Data.csv\")\n",
    "df.head()\n",
    "\n",
    "from sklearn import metrics\n"
   ]
  },
  {
   "cell_type": "code",
   "execution_count": 6,
   "id": "08b7bf86",
   "metadata": {},
   "outputs": [
    {
     "data": {
      "text/plain": [
       "(48842, 15)"
      ]
     },
     "execution_count": 6,
     "metadata": {},
     "output_type": "execute_result"
    }
   ],
   "source": [
    "df.shape #Checking the shape of the dataframe"
   ]
  },
  {
   "cell_type": "code",
   "execution_count": 7,
   "id": "5e7f3acc",
   "metadata": {},
   "outputs": [
    {
     "name": "stdout",
     "output_type": "stream",
     "text": [
      "<class 'pandas.core.frame.DataFrame'>\n",
      "RangeIndex: 48842 entries, 0 to 48841\n",
      "Data columns (total 15 columns):\n",
      " #   Column          Non-Null Count  Dtype \n",
      "---  ------          --------------  ----- \n",
      " 0   age             48842 non-null  int64 \n",
      " 1   workclass       48842 non-null  object\n",
      " 2   fnlwgt          48842 non-null  int64 \n",
      " 3   education       48842 non-null  object\n",
      " 4   education-num   48842 non-null  int64 \n",
      " 5   marital-status  48842 non-null  object\n",
      " 6   occupation      48842 non-null  object\n",
      " 7   relationship    48842 non-null  object\n",
      " 8   race            48842 non-null  object\n",
      " 9   sex             48842 non-null  object\n",
      " 10  capital-gain    48842 non-null  int64 \n",
      " 11  capital-loss    48842 non-null  int64 \n",
      " 12  hours-per-week  48842 non-null  int64 \n",
      " 13  native-country  48842 non-null  object\n",
      " 14  Salary          48842 non-null  object\n",
      "dtypes: int64(6), object(9)\n",
      "memory usage: 5.6+ MB\n"
     ]
    }
   ],
   "source": [
    "df.info()  #checking columns datatypes"
   ]
  },
  {
   "cell_type": "code",
   "execution_count": 8,
   "id": "8fd7e7b1",
   "metadata": {},
   "outputs": [
    {
     "data": {
      "text/plain": [
       "age               0\n",
       "workclass         0\n",
       "fnlwgt            0\n",
       "education         0\n",
       "education-num     0\n",
       "marital-status    0\n",
       "occupation        0\n",
       "relationship      0\n",
       "race              0\n",
       "sex               0\n",
       "capital-gain      0\n",
       "capital-loss      0\n",
       "hours-per-week    0\n",
       "native-country    0\n",
       "Salary            0\n",
       "dtype: int64"
      ]
     },
     "execution_count": 8,
     "metadata": {},
     "output_type": "execute_result"
    }
   ],
   "source": [
    "df.isnull().sum() ##Checking the null values\n",
    "\n",
    "##no null values"
   ]
  },
  {
   "cell_type": "code",
   "execution_count": 9,
   "id": "518910ac",
   "metadata": {},
   "outputs": [
    {
     "data": {
      "text/html": [
       "<div>\n",
       "<style scoped>\n",
       "    .dataframe tbody tr th:only-of-type {\n",
       "        vertical-align: middle;\n",
       "    }\n",
       "\n",
       "    .dataframe tbody tr th {\n",
       "        vertical-align: top;\n",
       "    }\n",
       "\n",
       "    .dataframe thead th {\n",
       "        text-align: right;\n",
       "    }\n",
       "</style>\n",
       "<table border=\"1\" class=\"dataframe\">\n",
       "  <thead>\n",
       "    <tr style=\"text-align: right;\">\n",
       "      <th></th>\n",
       "      <th>age</th>\n",
       "      <th>fnlwgt</th>\n",
       "      <th>education-num</th>\n",
       "      <th>capital-gain</th>\n",
       "      <th>capital-loss</th>\n",
       "      <th>hours-per-week</th>\n",
       "    </tr>\n",
       "  </thead>\n",
       "  <tbody>\n",
       "    <tr>\n",
       "      <th>count</th>\n",
       "      <td>48842.000000</td>\n",
       "      <td>4.884200e+04</td>\n",
       "      <td>48842.000000</td>\n",
       "      <td>48842.000000</td>\n",
       "      <td>48842.000000</td>\n",
       "      <td>48842.000000</td>\n",
       "    </tr>\n",
       "    <tr>\n",
       "      <th>mean</th>\n",
       "      <td>38.643585</td>\n",
       "      <td>1.896641e+05</td>\n",
       "      <td>10.078089</td>\n",
       "      <td>1079.067626</td>\n",
       "      <td>87.502314</td>\n",
       "      <td>40.422382</td>\n",
       "    </tr>\n",
       "    <tr>\n",
       "      <th>std</th>\n",
       "      <td>13.710510</td>\n",
       "      <td>1.056040e+05</td>\n",
       "      <td>2.570973</td>\n",
       "      <td>7452.019058</td>\n",
       "      <td>403.004552</td>\n",
       "      <td>12.391444</td>\n",
       "    </tr>\n",
       "    <tr>\n",
       "      <th>min</th>\n",
       "      <td>17.000000</td>\n",
       "      <td>1.228500e+04</td>\n",
       "      <td>1.000000</td>\n",
       "      <td>0.000000</td>\n",
       "      <td>0.000000</td>\n",
       "      <td>1.000000</td>\n",
       "    </tr>\n",
       "    <tr>\n",
       "      <th>25%</th>\n",
       "      <td>28.000000</td>\n",
       "      <td>1.175505e+05</td>\n",
       "      <td>9.000000</td>\n",
       "      <td>0.000000</td>\n",
       "      <td>0.000000</td>\n",
       "      <td>40.000000</td>\n",
       "    </tr>\n",
       "    <tr>\n",
       "      <th>50%</th>\n",
       "      <td>37.000000</td>\n",
       "      <td>1.781445e+05</td>\n",
       "      <td>10.000000</td>\n",
       "      <td>0.000000</td>\n",
       "      <td>0.000000</td>\n",
       "      <td>40.000000</td>\n",
       "    </tr>\n",
       "    <tr>\n",
       "      <th>75%</th>\n",
       "      <td>48.000000</td>\n",
       "      <td>2.376420e+05</td>\n",
       "      <td>12.000000</td>\n",
       "      <td>0.000000</td>\n",
       "      <td>0.000000</td>\n",
       "      <td>45.000000</td>\n",
       "    </tr>\n",
       "    <tr>\n",
       "      <th>max</th>\n",
       "      <td>90.000000</td>\n",
       "      <td>1.490400e+06</td>\n",
       "      <td>16.000000</td>\n",
       "      <td>99999.000000</td>\n",
       "      <td>4356.000000</td>\n",
       "      <td>99.000000</td>\n",
       "    </tr>\n",
       "  </tbody>\n",
       "</table>\n",
       "</div>"
      ],
      "text/plain": [
       "                age        fnlwgt  education-num  capital-gain  capital-loss  \\\n",
       "count  48842.000000  4.884200e+04   48842.000000  48842.000000  48842.000000   \n",
       "mean      38.643585  1.896641e+05      10.078089   1079.067626     87.502314   \n",
       "std       13.710510  1.056040e+05       2.570973   7452.019058    403.004552   \n",
       "min       17.000000  1.228500e+04       1.000000      0.000000      0.000000   \n",
       "25%       28.000000  1.175505e+05       9.000000      0.000000      0.000000   \n",
       "50%       37.000000  1.781445e+05      10.000000      0.000000      0.000000   \n",
       "75%       48.000000  2.376420e+05      12.000000      0.000000      0.000000   \n",
       "max       90.000000  1.490400e+06      16.000000  99999.000000   4356.000000   \n",
       "\n",
       "       hours-per-week  \n",
       "count    48842.000000  \n",
       "mean        40.422382  \n",
       "std         12.391444  \n",
       "min          1.000000  \n",
       "25%         40.000000  \n",
       "50%         40.000000  \n",
       "75%         45.000000  \n",
       "max         99.000000  "
      ]
     },
     "execution_count": 9,
     "metadata": {},
     "output_type": "execute_result"
    }
   ],
   "source": [
    "df.describe() #Statistical analysis"
   ]
  },
  {
   "cell_type": "code",
   "execution_count": 10,
   "id": "030f2727",
   "metadata": {},
   "outputs": [
    {
     "data": {
      "text/plain": [
       "<=50K    0.760718\n",
       ">50K     0.239282\n",
       "Name: Salary, dtype: float64"
      ]
     },
     "execution_count": 10,
     "metadata": {},
     "output_type": "execute_result"
    }
   ],
   "source": [
    "###Checking the target variable\n",
    "df.Salary.value_counts(normalize=True)"
   ]
  },
  {
   "cell_type": "code",
   "execution_count": 11,
   "id": "faddf540",
   "metadata": {},
   "outputs": [
    {
     "data": {
      "image/png": "[encoded data removed]",
      "text/plain": [
       "<Figure size 640x480 with 1 Axes>"
      ]
     },
     "metadata": {},
     "output_type": "display_data"
    }
   ],
   "source": [
    "###Visualising the target variable for checking whether the dataset is imbalanced or not\n",
    "df.Salary.value_counts().plot(kind='bar')\n",
    "plt.show()"
   ]
  },
  {
   "cell_type": "code",
   "execution_count": 12,
   "id": "f8f77c9d",
   "metadata": {},
   "outputs": [
    {
     "data": {
      "text/plain": [
       "['age',\n",
       " 'fnlwgt',\n",
       " 'education-num',\n",
       " 'capital-gain',\n",
       " 'capital-loss',\n",
       " 'hours-per-week']"
      ]
     },
     "execution_count": 12,
     "metadata": {},
     "output_type": "execute_result"
    }
   ],
   "source": [
    "##Separating all the numerical columns  \n",
    "num_var = [x for x in df.columns if df[x].dtype ==\"int64\"]\n",
    "num_var"
   ]
  },
  {
   "cell_type": "code",
   "execution_count": 13,
   "id": "5ad54e12",
   "metadata": {},
   "outputs": [
    {
     "data": {
      "text/plain": [
       "['workclass',\n",
       " 'education',\n",
       " 'marital-status',\n",
       " 'occupation',\n",
       " 'relationship',\n",
       " 'race',\n",
       " 'sex',\n",
       " 'native-country',\n",
       " 'Salary']"
      ]
     },
     "execution_count": 13,
     "metadata": {},
     "output_type": "execute_result"
    }
   ],
   "source": [
    "##categorical variables\n",
    "cat_var = [x for x in df.columns if x not in num_var]\n",
    "cat_var"
   ]
  },
  {
   "cell_type": "code",
   "execution_count": 14,
   "id": "cb01801e",
   "metadata": {},
   "outputs": [
    {
     "name": "stdout",
     "output_type": "stream",
     "text": [
      "-----workclass-----\n",
      "Private             0.694198\n",
      "Self-emp-not-inc    0.079071\n",
      "Local-gov           0.064207\n",
      "?                   0.057307\n",
      "State-gov           0.040559\n",
      "Self-emp-inc        0.034704\n",
      "Federal-gov         0.029319\n",
      "Without-pay         0.000430\n",
      "Never-worked        0.000205\n",
      "Name: workclass, dtype: float64\n",
      "\n",
      "\n",
      "-----education-----\n",
      "HS-grad         0.323164\n",
      "Some-college    0.222718\n",
      "Bachelors       0.164305\n",
      "Masters         0.054400\n",
      "Assoc-voc       0.042197\n",
      "11th            0.037099\n",
      "Assoc-acdm      0.032779\n",
      "10th            0.028439\n",
      "7th-8th         0.019553\n",
      "Prof-school     0.017075\n",
      "9th             0.015478\n",
      "12th            0.013452\n",
      "Doctorate       0.012162\n",
      "5th-6th         0.010421\n",
      "1st-4th         0.005057\n",
      "Preschool       0.001699\n",
      "Name: education, dtype: float64\n",
      "\n",
      "\n",
      "-----marital-status-----\n",
      "Married-civ-spouse       0.458192\n",
      "Never-married            0.329982\n",
      "Divorced                 0.135805\n",
      "Separated                0.031325\n",
      "Widowed                  0.031080\n",
      "Married-spouse-absent    0.012858\n",
      "Married-AF-spouse        0.000758\n",
      "Name: marital-status, dtype: float64\n",
      "\n",
      "\n",
      "-----occupation-----\n",
      "Prof-specialty       0.126367\n",
      "Craft-repair         0.125138\n",
      "Exec-managerial      0.124606\n",
      "Adm-clerical         0.114881\n",
      "Sales                0.112690\n",
      "Other-service        0.100794\n",
      "Machine-op-inspct    0.061873\n",
      "?                    0.057512\n",
      "Transport-moving     0.048217\n",
      "Handlers-cleaners    0.042423\n",
      "Farming-fishing      0.030507\n",
      "Tech-support         0.029606\n",
      "Protective-serv      0.020126\n",
      "Priv-house-serv      0.004955\n",
      "Armed-Forces         0.000307\n",
      "Name: occupation, dtype: float64\n",
      "\n",
      "\n",
      "-----relationship-----\n",
      "Husband           0.403669\n",
      "Not-in-family     0.257627\n",
      "Own-child         0.155215\n",
      "Unmarried         0.104930\n",
      "Wife              0.047725\n",
      "Other-relative    0.030834\n",
      "Name: relationship, dtype: float64\n",
      "\n",
      "\n",
      "-----race-----\n",
      "White                 0.855043\n",
      "Black                 0.095922\n",
      "Asian-Pac-Islander    0.031100\n",
      "Amer-Indian-Eskimo    0.009623\n",
      "Other                 0.008313\n",
      "Name: race, dtype: float64\n",
      "\n",
      "\n",
      "-----sex-----\n",
      "Male      0.668482\n",
      "Female    0.331518\n",
      "Name: sex, dtype: float64\n",
      "\n",
      "\n",
      "-----native-country-----\n",
      "United-States                 0.897424\n",
      "Mexico                        0.019471\n",
      "?                             0.017546\n",
      "Philippines                   0.006040\n",
      "Germany                       0.004218\n",
      "Puerto-Rico                   0.003767\n",
      "Canada                        0.003726\n",
      "El-Salvador                   0.003173\n",
      "India                         0.003092\n",
      "Cuba                          0.002825\n",
      "England                       0.002600\n",
      "China                         0.002498\n",
      "South                         0.002355\n",
      "Jamaica                       0.002170\n",
      "Italy                         0.002150\n",
      "Dominican-Republic            0.002109\n",
      "Japan                         0.001884\n",
      "Guatemala                     0.001802\n",
      "Poland                        0.001781\n",
      "Vietnam                       0.001761\n",
      "Columbia                      0.001740\n",
      "Haiti                         0.001536\n",
      "Portugal                      0.001372\n",
      "Taiwan                        0.001331\n",
      "Iran                          0.001208\n",
      "Greece                        0.001003\n",
      "Nicaragua                     0.001003\n",
      "Peru                          0.000942\n",
      "Ecuador                       0.000921\n",
      "France                        0.000778\n",
      "Ireland                       0.000758\n",
      "Hong                          0.000614\n",
      "Thailand                      0.000614\n",
      "Cambodia                      0.000573\n",
      "Trinadad&Tobago               0.000553\n",
      "Laos                          0.000471\n",
      "Yugoslavia                    0.000471\n",
      "Outlying-US(Guam-USVI-etc)    0.000471\n",
      "Scotland                      0.000430\n",
      "Honduras                      0.000409\n",
      "Hungary                       0.000389\n",
      "Holand-Netherlands            0.000020\n",
      "Name: native-country, dtype: float64\n",
      "\n",
      "\n",
      "-----Salary-----\n",
      "<=50K    0.760718\n",
      ">50K     0.239282\n",
      "Name: Salary, dtype: float64\n",
      "\n",
      "\n"
     ]
    }
   ],
   "source": [
    "###Checking the unique values and their counts in each categorical variable(Non-Graphical)\n",
    "for i in cat_var:\n",
    "    print(\"-----\"+i+\"-----\")\n",
    "    print(df[i].value_counts(normalize=True))\n",
    "    print(\"\\n\")"
   ]
  },
  {
   "cell_type": "code",
   "execution_count": 15,
   "id": "853eebf1",
   "metadata": {},
   "outputs": [
    {
     "data": {
      "image/png": "[encoded data removed]",
      "text/plain": [
       "<Figure size 640x480 with 1 Axes>"
      ]
     },
     "metadata": {},
     "output_type": "display_data"
    },
    {
     "data": {
      "image/png": "[encoded data removed]",
      "text/plain": [
       "<Figure size 640x480 with 1 Axes>"
      ]
     },
     "metadata": {},
     "output_type": "display_data"
    },
    {
     "data": {
      "image/png": "[encoded data removed]",
      "text/plain": [
       "<Figure size 640x480 with 1 Axes>"
      ]
     },
     "metadata": {},
     "output_type": "display_data"
    },
    {
     "data": {
      "image/png": "[encoded data removed]",
      "text/plain": [
       "<Figure size 640x480 with 1 Axes>"
      ]
     },
     "metadata": {},
     "output_type": "display_data"
    },
    {
     "data": {
      "image/png": "[encoded data removed]",
      "text/plain": [
       "<Figure size 640x480 with 1 Axes>"
      ]
     },
     "metadata": {},
     "output_type": "display_data"
    },
    {
     "data": {
      "image/png": "[encoded data removed]",
      "text/plain": [
       "<Figure size 640x480 with 1 Axes>"
      ]
     },
     "metadata": {},
     "output_type": "display_data"
    },
    {
     "data": {
      "image/png": "[encoded data removed]",
      "text/plain": [
       "<Figure size 640x480 with 1 Axes>"
      ]
     },
     "metadata": {},
     "output_type": "display_data"
    },
    {
     "data": {
      "image/png": "[encoded data removed]",
      "text/plain": [
       "<Figure size 640x480 with 1 Axes>"
      ]
     },
     "metadata": {},
     "output_type": "display_data"
    },
    {
     "data": {
      "image/png": "[encoded data removed]",
      "text/plain": [
       "<Figure size 640x480 with 1 Axes>"
      ]
     },
     "metadata": {},
     "output_type": "display_data"
    }
   ],
   "source": [
    "##unique value graphical reprrsentation\n",
    "for i in cat_var:\n",
    "    plt.title(i)\n",
    "    sns.countplot(x = df[i])\n",
    "    \n",
    "    plt.xticks(rotation=90)\n",
    "    plt.show()"
   ]
  },
  {
   "cell_type": "code",
   "execution_count": 16,
   "id": "fd71436f",
   "metadata": {},
   "outputs": [
    {
     "data": {
      "text/plain": [
       "Private             0.694198\n",
       "others              0.105217\n",
       "Self-emp-not-inc    0.079071\n",
       "Local-gov           0.064207\n",
       "?                   0.057307\n",
       "Name: workclass, dtype: float64"
      ]
     },
     "execution_count": 16,
     "metadata": {},
     "output_type": "execute_result"
    }
   ],
   "source": [
    "##Now,we will perform bucketing on the categorical columns to bucket the categories together \n",
    "#whose value_count is very lesser\n",
    "\n",
    "###On workclass\n",
    "def assign(x):\n",
    "    check = ['State-gov','Self-emp-inc','Federal-gov','Without-pay','Never-worked']\n",
    "    if x in check:\n",
    "        return \"others\"\n",
    "    else:\n",
    "        return x\n",
    "\n",
    "df[\"workclass\"] = pd.DataFrame(map(assign,df[\"workclass\"]))\n",
    "df[\"workclass\"].value_counts(normalize=True)"
   ]
  },
  {
   "cell_type": "code",
   "execution_count": 17,
   "id": "663c56b4",
   "metadata": {},
   "outputs": [
    {
     "data": {
      "text/plain": [
       "HS-grad         0.323164\n",
       "Some-college    0.222718\n",
       "Bachelors       0.164305\n",
       "others          0.123336\n",
       "Masters         0.054400\n",
       "Assoc-voc       0.042197\n",
       "11th            0.037099\n",
       "Assoc-acdm      0.032779\n",
       "Name: education, dtype: float64"
      ]
     },
     "execution_count": 17,
     "metadata": {},
     "output_type": "execute_result"
    }
   ],
   "source": [
    "###On education \n",
    "def assign(x):\n",
    "    check = ['10th','7th-8th','Prof-school','9th','12th','Doctorate','5th-6th','1st-4th','Preschool']\n",
    "    if x in check:\n",
    "        return \"others\"\n",
    "    else:\n",
    "        return x\n",
    "\n",
    "df[\"education\"] = pd.DataFrame(map(assign,df[\"education\"]))\n",
    "df[\"education\"].value_counts(normalize=True)"
   ]
  },
  {
   "cell_type": "code",
   "execution_count": 18,
   "id": "32522b0d",
   "metadata": {},
   "outputs": [
    {
     "data": {
      "text/plain": [
       "Married-civ-spouse    0.458192\n",
       "Never-married         0.329982\n",
       "Divorced              0.135805\n",
       "others                0.076021\n",
       "Name: marital-status, dtype: float64"
      ]
     },
     "execution_count": 18,
     "metadata": {},
     "output_type": "execute_result"
    }
   ],
   "source": [
    "#marital-status\n",
    "def assign(x):\n",
    "    check = ['Widowed', 'Separated', 'Married-spouse-absent', 'Married-AF-spouse']\n",
    "    if x in check:\n",
    "        return \"others\"\n",
    "    else:\n",
    "        return x\n",
    "\n",
    "df[\"marital-status\"] = pd.DataFrame(map(assign,df[\"marital-status\"]))\n",
    "df[\"marital-status\"].value_counts(normalize=True)"
   ]
  },
  {
   "cell_type": "code",
   "execution_count": 19,
   "id": "e3b64d0d",
   "metadata": {},
   "outputs": [
    {
     "data": {
      "text/plain": [
       "others               0.176139\n",
       "Prof-specialty       0.126367\n",
       "Craft-repair         0.125138\n",
       "Exec-managerial      0.124606\n",
       "Adm-clerical         0.114881\n",
       "Sales                0.112690\n",
       "Other-service        0.100794\n",
       "Machine-op-inspct    0.061873\n",
       "?                    0.057512\n",
       "Name: occupation, dtype: float64"
      ]
     },
     "execution_count": 19,
     "metadata": {},
     "output_type": "execute_result"
    }
   ],
   "source": [
    "#occupation\n",
    "def assign(x):\n",
    "    check = ['others','Transport-moving','Handlers-cleaners','Farming-fishing','Tech-support','Protective-serv','Priv-house-serv','Armed-Forces']\n",
    "    if x in check:\n",
    "        return \"others\"\n",
    "    else:\n",
    "        return x\n",
    "\n",
    "df[\"occupation\"] = pd.DataFrame(map(assign,df[\"occupation\"]))\n",
    "df[\"occupation\"].value_counts(normalize=True)"
   ]
  },
  {
   "cell_type": "code",
   "execution_count": 20,
   "id": "b52f7e8b",
   "metadata": {},
   "outputs": [
    {
     "data": {
      "text/plain": [
       "White     41762\n",
       "Black      4685\n",
       "others     2395\n",
       "Name: race, dtype: int64"
      ]
     },
     "execution_count": 20,
     "metadata": {},
     "output_type": "execute_result"
    }
   ],
   "source": [
    "#race\n",
    "def assign(x):\n",
    "    check = ['Amer-Indian-Eskimo','Other','Asian-Pac-Islander']\n",
    "    if x in check:\n",
    "        return \"others\"\n",
    "    else:\n",
    "        return x\n",
    "\n",
    "df[\"race\"] = pd.DataFrame(map(assign,df[\"race\"]))\n",
    "df[\"race\"].value_counts()"
   ]
  },
  {
   "cell_type": "code",
   "execution_count": 21,
   "id": "8aee9e9a",
   "metadata": {},
   "outputs": [
    {
     "data": {
      "text/plain": [
       "United-States    0.897424\n",
       "others           0.065558\n",
       "Mexico           0.019471\n",
       "?                0.017546\n",
       "Name: native-country, dtype: float64"
      ]
     },
     "execution_count": 21,
     "metadata": {},
     "output_type": "execute_result"
    }
   ],
   "source": [
    "#native-country\n",
    "def assign(x):\n",
    "    check = ['Greece','Vietnam', 'China','Taiwan', 'India', 'Philippines', 'Trinadad&Tobago', 'Canada','South', 'Holand-Netherlands', 'Puerto-Rico', 'Poland', 'Iran','England', 'Germany', 'Italy', 'Japan', 'Hong', 'Honduras', 'Cuba','Ireland', 'Cambodia', 'Peru', 'Nicaragua', 'Dominican-Republic','Haiti', 'El-Salvador', 'Hungary', 'Columbia', 'Guatemala','Jamaica', 'Ecuador', 'France', 'Yugoslavia', 'Scotland','Portugal', 'Laos', 'Thailand', 'Outlying-US(Guam-USVI-etc)','others']\n",
    "    if x in check:\n",
    "        return \"others\"\n",
    "    else:\n",
    "        return x\n",
    "\n",
    "df[\"native-country\"] = pd.DataFrame(map(assign,df[\"native-country\"]))\n",
    "df['native-country'].value_counts(normalize=True)"
   ]
  },
  {
   "cell_type": "code",
   "execution_count": 22,
   "id": "59cb8017",
   "metadata": {},
   "outputs": [],
   "source": [
    "##Replacing the ? sign in \"Workclass\",\"occupation\",\"native-country\" columns\n",
    "df[\"workclass\"] = df[\"workclass\"].replace(\"?\",\"others\")\n",
    "df[\"occupation\"] = df[\"occupation\"].replace(\"?\",\"others\")\n",
    "df[\"native-country\"] = df[\"native-country\"].replace(\"?\",\"others\")"
   ]
  },
  {
   "cell_type": "code",
   "execution_count": 23,
   "id": "cebd0b29",
   "metadata": {},
   "outputs": [
    {
     "data": {
      "text/plain": [
       "count    48842.000000\n",
       "mean        38.643585\n",
       "std         13.710510\n",
       "min         17.000000\n",
       "25%         28.000000\n",
       "50%         37.000000\n",
       "75%         48.000000\n",
       "100%        90.000000\n",
       "max         90.000000\n",
       "Name: age, dtype: float64"
      ]
     },
     "execution_count": 23,
     "metadata": {},
     "output_type": "execute_result"
    }
   ],
   "source": [
    "#Analysis of Numerical Column\n",
    "df['age'].describe([0.25,0.5,0.75,1])"
   ]
  },
  {
   "cell_type": "code",
   "execution_count": 24,
   "id": "17c11470",
   "metadata": {},
   "outputs": [
    {
     "data": {
      "text/plain": [
       "count    4.884200e+04\n",
       "mean     1.896641e+05\n",
       "std      1.056040e+05\n",
       "min      1.228500e+04\n",
       "25%      1.175505e+05\n",
       "50%      1.781445e+05\n",
       "75%      2.376420e+05\n",
       "100%     1.490400e+06\n",
       "max      1.490400e+06\n",
       "Name: fnlwgt, dtype: float64"
      ]
     },
     "execution_count": 24,
     "metadata": {},
     "output_type": "execute_result"
    }
   ],
   "source": [
    "df['fnlwgt'].describe([0.25,0.5,0.75,1])"
   ]
  },
  {
   "cell_type": "code",
   "execution_count": 25,
   "id": "4bc75f78",
   "metadata": {},
   "outputs": [
    {
     "data": {
      "text/plain": [
       "count    48842.000000\n",
       "mean        10.078089\n",
       "std          2.570973\n",
       "min          1.000000\n",
       "25%          9.000000\n",
       "50%         10.000000\n",
       "75%         12.000000\n",
       "100%        16.000000\n",
       "max         16.000000\n",
       "Name: education-num, dtype: float64"
      ]
     },
     "execution_count": 25,
     "metadata": {},
     "output_type": "execute_result"
    }
   ],
   "source": [
    "df['education-num'].describe([0.25,0.5,0.75,1])"
   ]
  },
  {
   "cell_type": "code",
   "execution_count": 26,
   "id": "66c3fb16",
   "metadata": {},
   "outputs": [
    {
     "data": {
      "text/plain": [
       "count    48842.000000\n",
       "mean      1079.067626\n",
       "std       7452.019058\n",
       "min          0.000000\n",
       "25%          0.000000\n",
       "50%          0.000000\n",
       "75%          0.000000\n",
       "80%          0.000000\n",
       "85%          0.000000\n",
       "90%          0.000000\n",
       "95%       5013.000000\n",
       "99%      15024.000000\n",
       "100%     99999.000000\n",
       "max      99999.000000\n",
       "Name: capital-gain, dtype: float64"
      ]
     },
     "execution_count": 26,
     "metadata": {},
     "output_type": "execute_result"
    }
   ],
   "source": [
    "df['capital-gain'].describe([0.25,0.5,0.75,0.8,0.85,0.9,0.95,0.99,1])"
   ]
  },
  {
   "cell_type": "code",
   "execution_count": 27,
   "id": "b9502f65",
   "metadata": {},
   "outputs": [
    {
     "data": {
      "text/plain": [
       "count    48842.000000\n",
       "mean        87.502314\n",
       "std        403.004552\n",
       "min          0.000000\n",
       "25%          0.000000\n",
       "50%          0.000000\n",
       "75%          0.000000\n",
       "80%          0.000000\n",
       "85%          0.000000\n",
       "90%          0.000000\n",
       "95%          0.000000\n",
       "99%       2001.000000\n",
       "100%      4356.000000\n",
       "max       4356.000000\n",
       "Name: capital-loss, dtype: float64"
      ]
     },
     "execution_count": 27,
     "metadata": {},
     "output_type": "execute_result"
    }
   ],
   "source": [
    "df['capital-loss'].describe([0.25,0.5,0.75,0.8,0.85,0.9,0.95,0.99,1])"
   ]
  },
  {
   "cell_type": "code",
   "execution_count": 28,
   "id": "dab139e4",
   "metadata": {},
   "outputs": [],
   "source": [
    "##Dropping the column column \"capital-loss\" as almost 95% values are 0s .So the data is highly skewed\n",
    "df.drop(\"capital-loss\",1,inplace=True)"
   ]
  },
  {
   "cell_type": "code",
   "execution_count": 29,
   "id": "1e573d97",
   "metadata": {},
   "outputs": [
    {
     "data": {
      "text/html": [
       "<div>\n",
       "<style scoped>\n",
       "    .dataframe tbody tr th:only-of-type {\n",
       "        vertical-align: middle;\n",
       "    }\n",
       "\n",
       "    .dataframe tbody tr th {\n",
       "        vertical-align: top;\n",
       "    }\n",
       "\n",
       "    .dataframe thead th {\n",
       "        text-align: right;\n",
       "    }\n",
       "</style>\n",
       "<table border=\"1\" class=\"dataframe\">\n",
       "  <thead>\n",
       "    <tr style=\"text-align: right;\">\n",
       "      <th></th>\n",
       "      <th>age</th>\n",
       "      <th>workclass</th>\n",
       "      <th>fnlwgt</th>\n",
       "      <th>education</th>\n",
       "      <th>education-num</th>\n",
       "      <th>marital-status</th>\n",
       "      <th>occupation</th>\n",
       "      <th>relationship</th>\n",
       "      <th>race</th>\n",
       "      <th>sex</th>\n",
       "      <th>...</th>\n",
       "      <th>education_others</th>\n",
       "      <th>race_White</th>\n",
       "      <th>race_others</th>\n",
       "      <th>occupation_Craft-repair</th>\n",
       "      <th>occupation_Exec-managerial</th>\n",
       "      <th>occupation_Machine-op-inspct</th>\n",
       "      <th>occupation_Other-service</th>\n",
       "      <th>occupation_Prof-specialty</th>\n",
       "      <th>occupation_Sales</th>\n",
       "      <th>occupation_others</th>\n",
       "    </tr>\n",
       "  </thead>\n",
       "  <tbody>\n",
       "    <tr>\n",
       "      <th>0</th>\n",
       "      <td>39</td>\n",
       "      <td>others</td>\n",
       "      <td>77516</td>\n",
       "      <td>Bachelors</td>\n",
       "      <td>13</td>\n",
       "      <td>Never-married</td>\n",
       "      <td>Adm-clerical</td>\n",
       "      <td>Not-in-family</td>\n",
       "      <td>White</td>\n",
       "      <td>Male</td>\n",
       "      <td>...</td>\n",
       "      <td>0</td>\n",
       "      <td>1</td>\n",
       "      <td>0</td>\n",
       "      <td>0</td>\n",
       "      <td>0</td>\n",
       "      <td>0</td>\n",
       "      <td>0</td>\n",
       "      <td>0</td>\n",
       "      <td>0</td>\n",
       "      <td>0</td>\n",
       "    </tr>\n",
       "    <tr>\n",
       "      <th>1</th>\n",
       "      <td>50</td>\n",
       "      <td>Self-emp-not-inc</td>\n",
       "      <td>83311</td>\n",
       "      <td>Bachelors</td>\n",
       "      <td>13</td>\n",
       "      <td>Married-civ-spouse</td>\n",
       "      <td>Exec-managerial</td>\n",
       "      <td>Husband</td>\n",
       "      <td>White</td>\n",
       "      <td>Male</td>\n",
       "      <td>...</td>\n",
       "      <td>0</td>\n",
       "      <td>1</td>\n",
       "      <td>0</td>\n",
       "      <td>0</td>\n",
       "      <td>1</td>\n",
       "      <td>0</td>\n",
       "      <td>0</td>\n",
       "      <td>0</td>\n",
       "      <td>0</td>\n",
       "      <td>0</td>\n",
       "    </tr>\n",
       "    <tr>\n",
       "      <th>2</th>\n",
       "      <td>38</td>\n",
       "      <td>Private</td>\n",
       "      <td>215646</td>\n",
       "      <td>HS-grad</td>\n",
       "      <td>9</td>\n",
       "      <td>Divorced</td>\n",
       "      <td>others</td>\n",
       "      <td>Not-in-family</td>\n",
       "      <td>White</td>\n",
       "      <td>Male</td>\n",
       "      <td>...</td>\n",
       "      <td>0</td>\n",
       "      <td>1</td>\n",
       "      <td>0</td>\n",
       "      <td>0</td>\n",
       "      <td>0</td>\n",
       "      <td>0</td>\n",
       "      <td>0</td>\n",
       "      <td>0</td>\n",
       "      <td>0</td>\n",
       "      <td>1</td>\n",
       "    </tr>\n",
       "    <tr>\n",
       "      <th>3</th>\n",
       "      <td>53</td>\n",
       "      <td>Private</td>\n",
       "      <td>234721</td>\n",
       "      <td>11th</td>\n",
       "      <td>7</td>\n",
       "      <td>Married-civ-spouse</td>\n",
       "      <td>others</td>\n",
       "      <td>Husband</td>\n",
       "      <td>Black</td>\n",
       "      <td>Male</td>\n",
       "      <td>...</td>\n",
       "      <td>0</td>\n",
       "      <td>0</td>\n",
       "      <td>0</td>\n",
       "      <td>0</td>\n",
       "      <td>0</td>\n",
       "      <td>0</td>\n",
       "      <td>0</td>\n",
       "      <td>0</td>\n",
       "      <td>0</td>\n",
       "      <td>1</td>\n",
       "    </tr>\n",
       "    <tr>\n",
       "      <th>4</th>\n",
       "      <td>28</td>\n",
       "      <td>Private</td>\n",
       "      <td>338409</td>\n",
       "      <td>Bachelors</td>\n",
       "      <td>13</td>\n",
       "      <td>Married-civ-spouse</td>\n",
       "      <td>Prof-specialty</td>\n",
       "      <td>Wife</td>\n",
       "      <td>Black</td>\n",
       "      <td>Female</td>\n",
       "      <td>...</td>\n",
       "      <td>0</td>\n",
       "      <td>0</td>\n",
       "      <td>0</td>\n",
       "      <td>0</td>\n",
       "      <td>0</td>\n",
       "      <td>0</td>\n",
       "      <td>0</td>\n",
       "      <td>1</td>\n",
       "      <td>0</td>\n",
       "      <td>0</td>\n",
       "    </tr>\n",
       "  </tbody>\n",
       "</table>\n",
       "<p>5 rows × 43 columns</p>\n",
       "</div>"
      ],
      "text/plain": [
       "   age         workclass  fnlwgt  education  education-num  \\\n",
       "0   39            others   77516  Bachelors             13   \n",
       "1   50  Self-emp-not-inc   83311  Bachelors             13   \n",
       "2   38           Private  215646    HS-grad              9   \n",
       "3   53           Private  234721       11th              7   \n",
       "4   28           Private  338409  Bachelors             13   \n",
       "\n",
       "       marital-status       occupation   relationship   race     sex  ...  \\\n",
       "0       Never-married     Adm-clerical  Not-in-family  White    Male  ...   \n",
       "1  Married-civ-spouse  Exec-managerial        Husband  White    Male  ...   \n",
       "2            Divorced           others  Not-in-family  White    Male  ...   \n",
       "3  Married-civ-spouse           others        Husband  Black    Male  ...   \n",
       "4  Married-civ-spouse   Prof-specialty           Wife  Black  Female  ...   \n",
       "\n",
       "   education_others  race_White race_others occupation_Craft-repair  \\\n",
       "0                 0           1           0                       0   \n",
       "1                 0           1           0                       0   \n",
       "2                 0           1           0                       0   \n",
       "3                 0           0           0                       0   \n",
       "4                 0           0           0                       0   \n",
       "\n",
       "   occupation_Exec-managerial  occupation_Machine-op-inspct  \\\n",
       "0                           0                             0   \n",
       "1                           1                             0   \n",
       "2                           0                             0   \n",
       "3                           0                             0   \n",
       "4                           0                             0   \n",
       "\n",
       "   occupation_Other-service  occupation_Prof-specialty  occupation_Sales  \\\n",
       "0                         0                          0                 0   \n",
       "1                         0                          0                 0   \n",
       "2                         0                          0                 0   \n",
       "3                         0                          0                 0   \n",
       "4                         0                          1                 0   \n",
       "\n",
       "   occupation_others  \n",
       "0                  0  \n",
       "1                  0  \n",
       "2                  1  \n",
       "3                  1  \n",
       "4                  0  \n",
       "\n",
       "[5 rows x 43 columns]"
      ]
     },
     "execution_count": 29,
     "metadata": {},
     "output_type": "execute_result"
    }
   ],
   "source": [
    "#Creating dummy variables\n",
    "### 'relationship'\n",
    "rel =pd.get_dummies(df[[\"relationship\"]],drop_first = True)\n",
    "df = pd.concat([df,rel],axis=1)\n",
    "### 'native-country'\n",
    "nc = pd.get_dummies(df[[\"native-country\"]],drop_first = True) \n",
    "df = pd.concat([df,nc],axis=1)\n",
    "#### 'workclass'\n",
    "wc = pd.get_dummies(df[[\"workclass\"]],drop_first = True)\n",
    "df = pd.concat([df,wc],axis=1)\n",
    "### 'marital-status'\n",
    "ms = pd.get_dummies(df[[\"marital-status\"]],drop_first = True)\n",
    "df = pd.concat([df,ms],axis=1)\n",
    "### 'education' \n",
    "edu = pd.get_dummies(df[[\"education\"]],drop_first = True)\n",
    "df = pd.concat([df,edu],axis=1)\n",
    "### 'race'\n",
    "race = pd.get_dummies(df[[\"race\"]],drop_first = True)\n",
    "df = pd.concat([df,race],axis=1) \n",
    "### 'occupation'\n",
    "occu =pd.get_dummies(df[[\"occupation\"]],drop_first = True)\n",
    "df = pd.concat([df,occu],axis=1) \n",
    "##checking data\n",
    "df.head()"
   ]
  },
  {
   "cell_type": "code",
   "execution_count": 30,
   "id": "8b8b43b5",
   "metadata": {},
   "outputs": [
    {
     "name": "stdout",
     "output_type": "stream",
     "text": [
      "[1 1 1 ... 1 1 1]\n"
     ]
    }
   ],
   "source": [
    "from sklearn.preprocessing import LabelEncoder\n",
    "le = LabelEncoder()\n",
    "gender_encoded = le.fit_transform(df['sex'])\n",
    "print(gender_encoded)"
   ]
  },
  {
   "cell_type": "code",
   "execution_count": 31,
   "id": "7ddc2a54",
   "metadata": {},
   "outputs": [
    {
     "name": "stdout",
     "output_type": "stream",
     "text": [
      "       age         workclass  fnlwgt  education  education-num  \\\n",
      "0       39            others   77516  Bachelors             13   \n",
      "1       50  Self-emp-not-inc   83311  Bachelors             13   \n",
      "2       38           Private  215646    HS-grad              9   \n",
      "3       53           Private  234721       11th              7   \n",
      "4       28           Private  338409  Bachelors             13   \n",
      "...    ...               ...     ...        ...            ...   \n",
      "48837   39           Private  215419  Bachelors             13   \n",
      "48838   64            others  321403    HS-grad              9   \n",
      "48839   38           Private  374983  Bachelors             13   \n",
      "48840   44           Private   83891  Bachelors             13   \n",
      "48841   35            others  182148  Bachelors             13   \n",
      "\n",
      "           marital-status       occupation    relationship    race     sex  \\\n",
      "0           Never-married     Adm-clerical   Not-in-family   White    Male   \n",
      "1      Married-civ-spouse  Exec-managerial         Husband   White    Male   \n",
      "2                Divorced           others   Not-in-family   White    Male   \n",
      "3      Married-civ-spouse           others         Husband   Black    Male   \n",
      "4      Married-civ-spouse   Prof-specialty            Wife   Black  Female   \n",
      "...                   ...              ...             ...     ...     ...   \n",
      "48837            Divorced   Prof-specialty   Not-in-family   White  Female   \n",
      "48838              others           others  Other-relative   Black    Male   \n",
      "48839  Married-civ-spouse   Prof-specialty         Husband   White    Male   \n",
      "48840            Divorced     Adm-clerical       Own-child  others    Male   \n",
      "48841  Married-civ-spouse  Exec-managerial         Husband   White    Male   \n",
      "\n",
      "       ...  race_White  race_others occupation_Craft-repair  \\\n",
      "0      ...           1            0                       0   \n",
      "1      ...           1            0                       0   \n",
      "2      ...           1            0                       0   \n",
      "3      ...           0            0                       0   \n",
      "4      ...           0            0                       0   \n",
      "...    ...         ...          ...                     ...   \n",
      "48837  ...           1            0                       0   \n",
      "48838  ...           0            0                       0   \n",
      "48839  ...           1            0                       0   \n",
      "48840  ...           0            1                       0   \n",
      "48841  ...           1            0                       0   \n",
      "\n",
      "      occupation_Exec-managerial  occupation_Machine-op-inspct  \\\n",
      "0                              0                             0   \n",
      "1                              1                             0   \n",
      "2                              0                             0   \n",
      "3                              0                             0   \n",
      "4                              0                             0   \n",
      "...                          ...                           ...   \n",
      "48837                          0                             0   \n",
      "48838                          0                             0   \n",
      "48839                          0                             0   \n",
      "48840                          0                             0   \n",
      "48841                          1                             0   \n",
      "\n",
      "       occupation_Other-service  occupation_Prof-specialty  occupation_Sales  \\\n",
      "0                             0                          0                 0   \n",
      "1                             0                          0                 0   \n",
      "2                             0                          0                 0   \n",
      "3                             0                          0                 0   \n",
      "4                             0                          1                 0   \n",
      "...                         ...                        ...               ...   \n",
      "48837                         0                          1                 0   \n",
      "48838                         0                          0                 0   \n",
      "48839                         0                          1                 0   \n",
      "48840                         0                          0                 0   \n",
      "48841                         0                          0                 0   \n",
      "\n",
      "       occupation_others  encoded_gender  \n",
      "0                      0               1  \n",
      "1                      0               1  \n",
      "2                      1               1  \n",
      "3                      1               1  \n",
      "4                      0               0  \n",
      "...                  ...             ...  \n",
      "48837                  0               0  \n",
      "48838                  1               1  \n",
      "48839                  0               1  \n",
      "48840                  0               1  \n",
      "48841                  0               1  \n",
      "\n",
      "[48842 rows x 44 columns]\n"
     ]
    }
   ],
   "source": [
    "df['encoded_gender'] = gender_encoded\n",
    "print(df)"
   ]
  },
  {
   "cell_type": "code",
   "execution_count": 32,
   "id": "9d23f5d2",
   "metadata": {},
   "outputs": [
    {
     "data": {
      "text/plain": [
       "1    32650\n",
       "0    16192\n",
       "Name: encoded_gender, dtype: int64"
      ]
     },
     "execution_count": 32,
     "metadata": {},
     "output_type": "execute_result"
    }
   ],
   "source": [
    "df[\"encoded_gender\"].value_counts()"
   ]
  },
  {
   "cell_type": "code",
   "execution_count": 33,
   "id": "69a31267",
   "metadata": {},
   "outputs": [],
   "source": [
    "###dropping the columns as dummy has been created\n",
    "df.drop(['workclass','education','marital-status','occupation','relationship','race','sex','native-country'],axis=1,inplace=True)"
   ]
  },
  {
   "cell_type": "code",
   "execution_count": 34,
   "id": "4aaaf766",
   "metadata": {},
   "outputs": [
    {
     "name": "stdout",
     "output_type": "stream",
     "text": [
      "[0 0 0 ... 0 0 1]\n"
     ]
    }
   ],
   "source": [
    "##Treating the target variable(if income >50K then it is 1 else it is 0)\n",
    "from sklearn.preprocessing import LabelEncoder\n",
    "le = LabelEncoder()\n",
    "salary_encoded = le.fit_transform(df['Salary'])\n",
    "print(salary_encoded)"
   ]
  },
  {
   "cell_type": "code",
   "execution_count": 35,
   "id": "1ff82eb6",
   "metadata": {},
   "outputs": [
    {
     "name": "stdout",
     "output_type": "stream",
     "text": [
      "       age  fnlwgt  education-num  capital-gain  hours-per-week Salary  \\\n",
      "0       39   77516             13          2174              40  <=50K   \n",
      "1       50   83311             13             0              13  <=50K   \n",
      "2       38  215646              9             0              40  <=50K   \n",
      "3       53  234721              7             0              40  <=50K   \n",
      "4       28  338409             13             0              40  <=50K   \n",
      "...    ...     ...            ...           ...             ...    ...   \n",
      "48837   39  215419             13             0              36  <=50K   \n",
      "48838   64  321403              9             0              40  <=50K   \n",
      "48839   38  374983             13             0              50  <=50K   \n",
      "48840   44   83891             13          5455              40  <=50K   \n",
      "48841   35  182148             13             0              60   >50K   \n",
      "\n",
      "       relationship_Not-in-family  relationship_Other-relative  \\\n",
      "0                               1                            0   \n",
      "1                               0                            0   \n",
      "2                               1                            0   \n",
      "3                               0                            0   \n",
      "4                               0                            0   \n",
      "...                           ...                          ...   \n",
      "48837                           1                            0   \n",
      "48838                           0                            1   \n",
      "48839                           0                            0   \n",
      "48840                           0                            0   \n",
      "48841                           0                            0   \n",
      "\n",
      "       relationship_Own-child  relationship_Unmarried  ...  race_others  \\\n",
      "0                           0                       0  ...            0   \n",
      "1                           0                       0  ...            0   \n",
      "2                           0                       0  ...            0   \n",
      "3                           0                       0  ...            0   \n",
      "4                           0                       0  ...            0   \n",
      "...                       ...                     ...  ...          ...   \n",
      "48837                       0                       0  ...            0   \n",
      "48838                       0                       0  ...            0   \n",
      "48839                       0                       0  ...            0   \n",
      "48840                       1                       0  ...            1   \n",
      "48841                       0                       0  ...            0   \n",
      "\n",
      "       occupation_Craft-repair  occupation_Exec-managerial  \\\n",
      "0                            0                           0   \n",
      "1                            0                           1   \n",
      "2                            0                           0   \n",
      "3                            0                           0   \n",
      "4                            0                           0   \n",
      "...                        ...                         ...   \n",
      "48837                        0                           0   \n",
      "48838                        0                           0   \n",
      "48839                        0                           0   \n",
      "48840                        0                           0   \n",
      "48841                        0                           1   \n",
      "\n",
      "       occupation_Machine-op-inspct  occupation_Other-service  \\\n",
      "0                                 0                         0   \n",
      "1                                 0                         0   \n",
      "2                                 0                         0   \n",
      "3                                 0                         0   \n",
      "4                                 0                         0   \n",
      "...                             ...                       ...   \n",
      "48837                             0                         0   \n",
      "48838                             0                         0   \n",
      "48839                             0                         0   \n",
      "48840                             0                         0   \n",
      "48841                             0                         0   \n",
      "\n",
      "       occupation_Prof-specialty  occupation_Sales  occupation_others  \\\n",
      "0                              0                 0                  0   \n",
      "1                              0                 0                  0   \n",
      "2                              0                 0                  1   \n",
      "3                              0                 0                  1   \n",
      "4                              1                 0                  0   \n",
      "...                          ...               ...                ...   \n",
      "48837                          1                 0                  0   \n",
      "48838                          0                 0                  1   \n",
      "48839                          1                 0                  0   \n",
      "48840                          0                 0                  0   \n",
      "48841                          0                 0                  0   \n",
      "\n",
      "       encoded_gender  encoded_salary  \n",
      "0                   1               0  \n",
      "1                   1               0  \n",
      "2                   1               0  \n",
      "3                   1               0  \n",
      "4                   0               0  \n",
      "...               ...             ...  \n",
      "48837               0               0  \n",
      "48838               1               0  \n",
      "48839               1               0  \n",
      "48840               1               0  \n",
      "48841               1               1  \n",
      "\n",
      "[48842 rows x 37 columns]\n"
     ]
    }
   ],
   "source": [
    "df['encoded_salary'] = salary_encoded\n",
    "print(df)"
   ]
  },
  {
   "cell_type": "code",
   "execution_count": 36,
   "id": "24e5041f",
   "metadata": {},
   "outputs": [
    {
     "data": {
      "text/plain": [
       "0    37155\n",
       "1    11687\n",
       "Name: encoded_salary, dtype: int64"
      ]
     },
     "execution_count": 36,
     "metadata": {},
     "output_type": "execute_result"
    }
   ],
   "source": [
    "df[\"encoded_salary\"].value_counts()"
   ]
  },
  {
   "cell_type": "code",
   "execution_count": 37,
   "id": "e52d1210",
   "metadata": {},
   "outputs": [
    {
     "data": {
      "text/html": [
       "<div>\n",
       "<style scoped>\n",
       "    .dataframe tbody tr th:only-of-type {\n",
       "        vertical-align: middle;\n",
       "    }\n",
       "\n",
       "    .dataframe tbody tr th {\n",
       "        vertical-align: top;\n",
       "    }\n",
       "\n",
       "    .dataframe thead th {\n",
       "        text-align: right;\n",
       "    }\n",
       "</style>\n",
       "<table border=\"1\" class=\"dataframe\">\n",
       "  <thead>\n",
       "    <tr style=\"text-align: right;\">\n",
       "      <th></th>\n",
       "      <th>age</th>\n",
       "      <th>fnlwgt</th>\n",
       "      <th>education-num</th>\n",
       "      <th>capital-gain</th>\n",
       "      <th>hours-per-week</th>\n",
       "      <th>relationship_Not-in-family</th>\n",
       "      <th>relationship_Other-relative</th>\n",
       "      <th>relationship_Own-child</th>\n",
       "      <th>relationship_Unmarried</th>\n",
       "      <th>relationship_Wife</th>\n",
       "      <th>...</th>\n",
       "      <th>race_others</th>\n",
       "      <th>occupation_Craft-repair</th>\n",
       "      <th>occupation_Exec-managerial</th>\n",
       "      <th>occupation_Machine-op-inspct</th>\n",
       "      <th>occupation_Other-service</th>\n",
       "      <th>occupation_Prof-specialty</th>\n",
       "      <th>occupation_Sales</th>\n",
       "      <th>occupation_others</th>\n",
       "      <th>encoded_gender</th>\n",
       "      <th>encoded_salary</th>\n",
       "    </tr>\n",
       "  </thead>\n",
       "  <tbody>\n",
       "    <tr>\n",
       "      <th>0</th>\n",
       "      <td>39</td>\n",
       "      <td>77516</td>\n",
       "      <td>13</td>\n",
       "      <td>2174</td>\n",
       "      <td>40</td>\n",
       "      <td>1</td>\n",
       "      <td>0</td>\n",
       "      <td>0</td>\n",
       "      <td>0</td>\n",
       "      <td>0</td>\n",
       "      <td>...</td>\n",
       "      <td>0</td>\n",
       "      <td>0</td>\n",
       "      <td>0</td>\n",
       "      <td>0</td>\n",
       "      <td>0</td>\n",
       "      <td>0</td>\n",
       "      <td>0</td>\n",
       "      <td>0</td>\n",
       "      <td>1</td>\n",
       "      <td>0</td>\n",
       "    </tr>\n",
       "    <tr>\n",
       "      <th>1</th>\n",
       "      <td>50</td>\n",
       "      <td>83311</td>\n",
       "      <td>13</td>\n",
       "      <td>0</td>\n",
       "      <td>13</td>\n",
       "      <td>0</td>\n",
       "      <td>0</td>\n",
       "      <td>0</td>\n",
       "      <td>0</td>\n",
       "      <td>0</td>\n",
       "      <td>...</td>\n",
       "      <td>0</td>\n",
       "      <td>0</td>\n",
       "      <td>1</td>\n",
       "      <td>0</td>\n",
       "      <td>0</td>\n",
       "      <td>0</td>\n",
       "      <td>0</td>\n",
       "      <td>0</td>\n",
       "      <td>1</td>\n",
       "      <td>0</td>\n",
       "    </tr>\n",
       "    <tr>\n",
       "      <th>2</th>\n",
       "      <td>38</td>\n",
       "      <td>215646</td>\n",
       "      <td>9</td>\n",
       "      <td>0</td>\n",
       "      <td>40</td>\n",
       "      <td>1</td>\n",
       "      <td>0</td>\n",
       "      <td>0</td>\n",
       "      <td>0</td>\n",
       "      <td>0</td>\n",
       "      <td>...</td>\n",
       "      <td>0</td>\n",
       "      <td>0</td>\n",
       "      <td>0</td>\n",
       "      <td>0</td>\n",
       "      <td>0</td>\n",
       "      <td>0</td>\n",
       "      <td>0</td>\n",
       "      <td>1</td>\n",
       "      <td>1</td>\n",
       "      <td>0</td>\n",
       "    </tr>\n",
       "    <tr>\n",
       "      <th>3</th>\n",
       "      <td>53</td>\n",
       "      <td>234721</td>\n",
       "      <td>7</td>\n",
       "      <td>0</td>\n",
       "      <td>40</td>\n",
       "      <td>0</td>\n",
       "      <td>0</td>\n",
       "      <td>0</td>\n",
       "      <td>0</td>\n",
       "      <td>0</td>\n",
       "      <td>...</td>\n",
       "      <td>0</td>\n",
       "      <td>0</td>\n",
       "      <td>0</td>\n",
       "      <td>0</td>\n",
       "      <td>0</td>\n",
       "      <td>0</td>\n",
       "      <td>0</td>\n",
       "      <td>1</td>\n",
       "      <td>1</td>\n",
       "      <td>0</td>\n",
       "    </tr>\n",
       "    <tr>\n",
       "      <th>4</th>\n",
       "      <td>28</td>\n",
       "      <td>338409</td>\n",
       "      <td>13</td>\n",
       "      <td>0</td>\n",
       "      <td>40</td>\n",
       "      <td>0</td>\n",
       "      <td>0</td>\n",
       "      <td>0</td>\n",
       "      <td>0</td>\n",
       "      <td>1</td>\n",
       "      <td>...</td>\n",
       "      <td>0</td>\n",
       "      <td>0</td>\n",
       "      <td>0</td>\n",
       "      <td>0</td>\n",
       "      <td>0</td>\n",
       "      <td>1</td>\n",
       "      <td>0</td>\n",
       "      <td>0</td>\n",
       "      <td>0</td>\n",
       "      <td>0</td>\n",
       "    </tr>\n",
       "  </tbody>\n",
       "</table>\n",
       "<p>5 rows × 36 columns</p>\n",
       "</div>"
      ],
      "text/plain": [
       "   age  fnlwgt  education-num  capital-gain  hours-per-week  \\\n",
       "0   39   77516             13          2174              40   \n",
       "1   50   83311             13             0              13   \n",
       "2   38  215646              9             0              40   \n",
       "3   53  234721              7             0              40   \n",
       "4   28  338409             13             0              40   \n",
       "\n",
       "   relationship_Not-in-family  relationship_Other-relative  \\\n",
       "0                           1                            0   \n",
       "1                           0                            0   \n",
       "2                           1                            0   \n",
       "3                           0                            0   \n",
       "4                           0                            0   \n",
       "\n",
       "   relationship_Own-child  relationship_Unmarried  relationship_Wife  ...  \\\n",
       "0                       0                       0                  0  ...   \n",
       "1                       0                       0                  0  ...   \n",
       "2                       0                       0                  0  ...   \n",
       "3                       0                       0                  0  ...   \n",
       "4                       0                       0                  1  ...   \n",
       "\n",
       "   race_others  occupation_Craft-repair  occupation_Exec-managerial  \\\n",
       "0            0                        0                           0   \n",
       "1            0                        0                           1   \n",
       "2            0                        0                           0   \n",
       "3            0                        0                           0   \n",
       "4            0                        0                           0   \n",
       "\n",
       "   occupation_Machine-op-inspct  occupation_Other-service  \\\n",
       "0                             0                         0   \n",
       "1                             0                         0   \n",
       "2                             0                         0   \n",
       "3                             0                         0   \n",
       "4                             0                         0   \n",
       "\n",
       "   occupation_Prof-specialty  occupation_Sales  occupation_others  \\\n",
       "0                          0                 0                  0   \n",
       "1                          0                 0                  0   \n",
       "2                          0                 0                  1   \n",
       "3                          0                 0                  1   \n",
       "4                          1                 0                  0   \n",
       "\n",
       "   encoded_gender  encoded_salary  \n",
       "0               1               0  \n",
       "1               1               0  \n",
       "2               1               0  \n",
       "3               1               0  \n",
       "4               0               0  \n",
       "\n",
       "[5 rows x 36 columns]"
      ]
     },
     "execution_count": 37,
     "metadata": {},
     "output_type": "execute_result"
    }
   ],
   "source": [
    "### Creating X and y \n",
    "X = df.drop(\"Salary\",axis=1)\n",
    "X.head()"
   ]
  },
  {
   "cell_type": "code",
   "execution_count": 38,
   "id": "051240da",
   "metadata": {},
   "outputs": [
    {
     "data": {
      "text/plain": [
       "0    <=50K\n",
       "1    <=50K\n",
       "2    <=50K\n",
       "3    <=50K\n",
       "4    <=50K\n",
       "Name: Salary, dtype: object"
      ]
     },
     "execution_count": 38,
     "metadata": {},
     "output_type": "execute_result"
    }
   ],
   "source": [
    "y = df[\"Salary\"]\n",
    "y.head()"
   ]
  },
  {
   "cell_type": "code",
   "execution_count": 39,
   "id": "d2cb6978",
   "metadata": {},
   "outputs": [],
   "source": [
    "#Train-Test Split\n",
    "from sklearn.model_selection import train_test_split\n",
    "from sklearn.preprocessing import StandardScaler\n",
    "from sklearn.neighbors import KNeighborsClassifier\n",
    "from sklearn.metrics import classification_report,confusion_matrix"
   ]
  },
  {
   "cell_type": "code",
   "execution_count": 40,
   "id": "786233ab",
   "metadata": {},
   "outputs": [],
   "source": [
    "###Splitting the data into train-test set\n",
    "X_train,X_test,y_train,y_test = train_test_split(X,y,train_size=0.8,test_size=0.2,random_state=100)"
   ]
  },
  {
   "cell_type": "code",
   "execution_count": 41,
   "id": "2b8957be",
   "metadata": {},
   "outputs": [],
   "source": [
    "##Feature Scaling\n",
    "#instantiate \n",
    "scaler = StandardScaler()"
   ]
  },
  {
   "cell_type": "code",
   "execution_count": 42,
   "id": "a0dfa43c",
   "metadata": {},
   "outputs": [],
   "source": [
    "##Have to remove 'capital-loss' since we have removed it from our main dataframe\n",
    "num_var.remove('capital-loss')"
   ]
  },
  {
   "cell_type": "code",
   "execution_count": 43,
   "id": "39b736d3",
   "metadata": {},
   "outputs": [],
   "source": [
    "#Fit_Transform\n",
    "X_train[num_var] = scaler.fit_transform(X_train[num_var])"
   ]
  },
  {
   "cell_type": "code",
   "execution_count": 44,
   "id": "7dda60ce",
   "metadata": {},
   "outputs": [
    {
     "data": {
      "text/html": [
       "<div>\n",
       "<style scoped>\n",
       "    .dataframe tbody tr th:only-of-type {\n",
       "        vertical-align: middle;\n",
       "    }\n",
       "\n",
       "    .dataframe tbody tr th {\n",
       "        vertical-align: top;\n",
       "    }\n",
       "\n",
       "    .dataframe thead th {\n",
       "        text-align: right;\n",
       "    }\n",
       "</style>\n",
       "<table border=\"1\" class=\"dataframe\">\n",
       "  <thead>\n",
       "    <tr style=\"text-align: right;\">\n",
       "      <th></th>\n",
       "      <th>age</th>\n",
       "      <th>fnlwgt</th>\n",
       "      <th>education-num</th>\n",
       "      <th>capital-gain</th>\n",
       "      <th>hours-per-week</th>\n",
       "      <th>relationship_Not-in-family</th>\n",
       "      <th>relationship_Other-relative</th>\n",
       "      <th>relationship_Own-child</th>\n",
       "      <th>relationship_Unmarried</th>\n",
       "      <th>relationship_Wife</th>\n",
       "      <th>...</th>\n",
       "      <th>race_others</th>\n",
       "      <th>occupation_Craft-repair</th>\n",
       "      <th>occupation_Exec-managerial</th>\n",
       "      <th>occupation_Machine-op-inspct</th>\n",
       "      <th>occupation_Other-service</th>\n",
       "      <th>occupation_Prof-specialty</th>\n",
       "      <th>occupation_Sales</th>\n",
       "      <th>occupation_others</th>\n",
       "      <th>encoded_gender</th>\n",
       "      <th>encoded_salary</th>\n",
       "    </tr>\n",
       "  </thead>\n",
       "  <tbody>\n",
       "    <tr>\n",
       "      <th>1324</th>\n",
       "      <td>0.026602</td>\n",
       "      <td>-1.002294</td>\n",
       "      <td>-0.417943</td>\n",
       "      <td>-0.144407</td>\n",
       "      <td>-0.032684</td>\n",
       "      <td>0</td>\n",
       "      <td>0</td>\n",
       "      <td>0</td>\n",
       "      <td>0</td>\n",
       "      <td>0</td>\n",
       "      <td>...</td>\n",
       "      <td>0</td>\n",
       "      <td>0</td>\n",
       "      <td>0</td>\n",
       "      <td>0</td>\n",
       "      <td>0</td>\n",
       "      <td>0</td>\n",
       "      <td>0</td>\n",
       "      <td>0</td>\n",
       "      <td>1</td>\n",
       "      <td>1</td>\n",
       "    </tr>\n",
       "    <tr>\n",
       "      <th>43063</th>\n",
       "      <td>-0.192488</td>\n",
       "      <td>-1.182498</td>\n",
       "      <td>1.521290</td>\n",
       "      <td>-0.144407</td>\n",
       "      <td>1.582837</td>\n",
       "      <td>0</td>\n",
       "      <td>0</td>\n",
       "      <td>0</td>\n",
       "      <td>0</td>\n",
       "      <td>0</td>\n",
       "      <td>...</td>\n",
       "      <td>0</td>\n",
       "      <td>0</td>\n",
       "      <td>0</td>\n",
       "      <td>0</td>\n",
       "      <td>0</td>\n",
       "      <td>1</td>\n",
       "      <td>0</td>\n",
       "      <td>0</td>\n",
       "      <td>1</td>\n",
       "      <td>1</td>\n",
       "    </tr>\n",
       "    <tr>\n",
       "      <th>23295</th>\n",
       "      <td>0.026602</td>\n",
       "      <td>-0.331960</td>\n",
       "      <td>-0.417943</td>\n",
       "      <td>1.008116</td>\n",
       "      <td>0.775076</td>\n",
       "      <td>1</td>\n",
       "      <td>0</td>\n",
       "      <td>0</td>\n",
       "      <td>0</td>\n",
       "      <td>0</td>\n",
       "      <td>...</td>\n",
       "      <td>0</td>\n",
       "      <td>0</td>\n",
       "      <td>0</td>\n",
       "      <td>0</td>\n",
       "      <td>0</td>\n",
       "      <td>0</td>\n",
       "      <td>0</td>\n",
       "      <td>1</td>\n",
       "      <td>1</td>\n",
       "      <td>1</td>\n",
       "    </tr>\n",
       "    <tr>\n",
       "      <th>40697</th>\n",
       "      <td>-0.776727</td>\n",
       "      <td>-1.297543</td>\n",
       "      <td>-2.357176</td>\n",
       "      <td>-0.144407</td>\n",
       "      <td>-0.032684</td>\n",
       "      <td>0</td>\n",
       "      <td>0</td>\n",
       "      <td>1</td>\n",
       "      <td>0</td>\n",
       "      <td>0</td>\n",
       "      <td>...</td>\n",
       "      <td>0</td>\n",
       "      <td>1</td>\n",
       "      <td>0</td>\n",
       "      <td>0</td>\n",
       "      <td>0</td>\n",
       "      <td>0</td>\n",
       "      <td>0</td>\n",
       "      <td>0</td>\n",
       "      <td>1</td>\n",
       "      <td>0</td>\n",
       "    </tr>\n",
       "    <tr>\n",
       "      <th>834</th>\n",
       "      <td>2.436591</td>\n",
       "      <td>-1.523075</td>\n",
       "      <td>-1.193636</td>\n",
       "      <td>-0.144407</td>\n",
       "      <td>-1.325101</td>\n",
       "      <td>1</td>\n",
       "      <td>0</td>\n",
       "      <td>0</td>\n",
       "      <td>0</td>\n",
       "      <td>0</td>\n",
       "      <td>...</td>\n",
       "      <td>0</td>\n",
       "      <td>0</td>\n",
       "      <td>0</td>\n",
       "      <td>0</td>\n",
       "      <td>0</td>\n",
       "      <td>0</td>\n",
       "      <td>0</td>\n",
       "      <td>1</td>\n",
       "      <td>0</td>\n",
       "      <td>0</td>\n",
       "    </tr>\n",
       "  </tbody>\n",
       "</table>\n",
       "<p>5 rows × 36 columns</p>\n",
       "</div>"
      ],
      "text/plain": [
       "            age    fnlwgt  education-num  capital-gain  hours-per-week  \\\n",
       "1324   0.026602 -1.002294      -0.417943     -0.144407       -0.032684   \n",
       "43063 -0.192488 -1.182498       1.521290     -0.144407        1.582837   \n",
       "23295  0.026602 -0.331960      -0.417943      1.008116        0.775076   \n",
       "40697 -0.776727 -1.297543      -2.357176     -0.144407       -0.032684   \n",
       "834    2.436591 -1.523075      -1.193636     -0.144407       -1.325101   \n",
       "\n",
       "       relationship_Not-in-family  relationship_Other-relative  \\\n",
       "1324                            0                            0   \n",
       "43063                           0                            0   \n",
       "23295                           1                            0   \n",
       "40697                           0                            0   \n",
       "834                             1                            0   \n",
       "\n",
       "       relationship_Own-child  relationship_Unmarried  relationship_Wife  ...  \\\n",
       "1324                        0                       0                  0  ...   \n",
       "43063                       0                       0                  0  ...   \n",
       "23295                       0                       0                  0  ...   \n",
       "40697                       1                       0                  0  ...   \n",
       "834                         0                       0                  0  ...   \n",
       "\n",
       "       race_others  occupation_Craft-repair  occupation_Exec-managerial  \\\n",
       "1324             0                        0                           0   \n",
       "43063            0                        0                           0   \n",
       "23295            0                        0                           0   \n",
       "40697            0                        1                           0   \n",
       "834              0                        0                           0   \n",
       "\n",
       "       occupation_Machine-op-inspct  occupation_Other-service  \\\n",
       "1324                              0                         0   \n",
       "43063                             0                         0   \n",
       "23295                             0                         0   \n",
       "40697                             0                         0   \n",
       "834                               0                         0   \n",
       "\n",
       "       occupation_Prof-specialty  occupation_Sales  occupation_others  \\\n",
       "1324                           0                 0                  0   \n",
       "43063                          1                 0                  0   \n",
       "23295                          0                 0                  1   \n",
       "40697                          0                 0                  0   \n",
       "834                            0                 0                  1   \n",
       "\n",
       "       encoded_gender  encoded_salary  \n",
       "1324                1               1  \n",
       "43063               1               1  \n",
       "23295               1               1  \n",
       "40697               1               0  \n",
       "834                 0               0  \n",
       "\n",
       "[5 rows x 36 columns]"
      ]
     },
     "execution_count": 44,
     "metadata": {},
     "output_type": "execute_result"
    }
   ],
   "source": [
    "X_train.head()"
   ]
  },
  {
   "cell_type": "code",
   "execution_count": 45,
   "id": "850361e5",
   "metadata": {},
   "outputs": [],
   "source": [
    "#Model Building with KNN(K Nearest Neighbour)¶\n",
    "#Training the model \n",
    "knn = KNeighborsClassifier(n_neighbors=9) ###k=9\n",
    "knn = knn.fit(X_train,y_train)"
   ]
  },
  {
   "cell_type": "code",
   "execution_count": 46,
   "id": "b47149b5",
   "metadata": {},
   "outputs": [],
   "source": [
    "##Transform on the test set\n",
    "X_test[num_var] = scaler.transform(X_test[num_var])"
   ]
  },
  {
   "cell_type": "code",
   "execution_count": 47,
   "id": "9c5dc305",
   "metadata": {},
   "outputs": [
    {
     "data": {
      "text/plain": [
       "array(['<=50K', '<=50K', '<=50K', ..., '<=50K', '>50K', '<=50K'],\n",
       "      dtype=object)"
      ]
     },
     "execution_count": 47,
     "metadata": {},
     "output_type": "execute_result"
    }
   ],
   "source": [
    "pred = knn.predict(X_test)\n",
    "pred"
   ]
  },
  {
   "cell_type": "code",
   "execution_count": 48,
   "id": "e02b4fe3",
   "metadata": {},
   "outputs": [
    {
     "name": "stdout",
     "output_type": "stream",
     "text": [
      "[[7362   53]\n",
      " [ 225 2129]]\n"
     ]
    }
   ],
   "source": [
    "##Printing the confusion matrix\n",
    "print(confusion_matrix(y_test,pred))"
   ]
  },
  {
   "cell_type": "code",
   "execution_count": 49,
   "id": "3bf80ce7",
   "metadata": {},
   "outputs": [
    {
     "name": "stdout",
     "output_type": "stream",
     "text": [
      "              precision    recall  f1-score   support\n",
      "\n",
      "       <=50K       0.97      0.99      0.98      7415\n",
      "        >50K       0.98      0.90      0.94      2354\n",
      "\n",
      "    accuracy                           0.97      9769\n",
      "   macro avg       0.97      0.95      0.96      9769\n",
      "weighted avg       0.97      0.97      0.97      9769\n",
      "\n"
     ]
    }
   ],
   "source": [
    "#Classification_report\n",
    "print(classification_report(y_test,pred))"
   ]
  },
  {
   "cell_type": "code",
   "execution_count": null,
   "id": "c3ccd242",
   "metadata": {},
   "outputs": [],
   "source": [
    "from sklearn import metrics\n",
    "#Analisng the accuracy by increasing the number of K\n",
    "scores = []\n",
    "for i in range(1,30):\n",
    "    knn = KNeighborsClassifier(n_neighbors=i)\n",
    "    knn.fit(X_train, y_train)\n",
    "    y_pred = knn.predict(X_test)\n",
    "    scores.append(metrics.accuracy_score(y_test, y_pred))\n",
    "\n",
    "sns.lineplot(range(1,30), scores)\n",
    "plt.xlabel('Value of K for KNN')\n",
    "plt.ylabel('Testing Accuracy')\n",
    "plt.title(\"Respective accuracy when increased the number of K\")\n",
    "plt.grid(True)\n",
    "plt.show()"
   ]
  },
  {
   "cell_type": "code",
   "execution_count": null,
   "id": "b0a3272e",
   "metadata": {},
   "outputs": [],
   "source": [
    "###So,the model has 97% accuracy rate & it has also very good f1-score"
   ]
  }
 ],
 "metadata": {
  "kernelspec": {
   "display_name": "Python 3 (ipykernel)",
   "language": "python",
   "name": "python3"
  },
  "language_info": {
   "codemirror_mode": {
    "name": "ipython",
    "version": 3
   },
   "file_extension": ".py",
   "mimetype": "text/x-python",
   "name": "python",
   "nbconvert_exporter": "python",
   "pygments_lexer": "ipython3",
   "version": "3.9.13"
  }
 },
 "nbformat": 4,
 "nbformat_minor": 5
}
